{
 "cells": [
  {
   "cell_type": "code",
   "execution_count": 17,
   "metadata": {},
   "outputs": [],
   "source": [
    "# librerias a usar\n",
    "import cv2\n",
    "import os\n",
    "import time"
   ]
  },
  {
   "cell_type": "markdown",
   "metadata": {},
   "source": [
    "# Datos de la persona"
   ]
  },
  {
   "cell_type": "code",
   "execution_count": 18,
   "metadata": {},
   "outputs": [],
   "source": [
    "personName = 'Uriel' # Cambiar dependiendo de la persona\n",
    "Cargo = 'CEO' \n",
    "Edad = '22' "
   ]
  },
  {
   "cell_type": "markdown",
   "metadata": {},
   "source": [
    "# Guardar y Probar video"
   ]
  },
  {
   "cell_type": "code",
   "execution_count": 22,
   "metadata": {},
   "outputs": [
    {
     "name": "stdout",
     "output_type": "stream",
     "text": [
      "Ya existe un video con ese nombre\n"
     ]
    }
   ],
   "source": [
    "time.sleep(3)\n",
    "dataPath_mp4 = 'C:/Users/uriel/OneDrive - Universidad de Guanajuato/Documentos/8vo semestre/Forte/Videos' #Cambia a la ruta donde hayas almacenado Data\n",
    "videoPath = dataPath_mp4 + '/' + personName + '.mp4' #Ruta completa\n",
    "\n",
    "if not os.path.exists(videoPath): # Si no existe el video con ese nombre lo crea\n",
    "    captura = cv2.VideoCapture(0) # Definioms que usaremos la camara\n",
    "    salida = cv2.VideoWriter(videoPath,cv2.VideoWriter_fourcc(*'XVID'),20.0,(640,480)) # Cambiar con la otra camara\n",
    "    while True:\n",
    "        ret, imagen = captura.read() # Comienza a grabar\n",
    "        imagen = cv2.flip(imagen, 1) # Aplicamos efecto espejo\n",
    "        if ret == True: # Si detecta video\n",
    "            cv2.imshow('video', imagen) # Mostramos la imagen\n",
    "            salida.write(imagen) # Comenzamos a guardar la imagen\n",
    "            if cv2.waitKey(1) & 0xFF == ord('s'): # Si se presiona la tecla s, paramos de grabar y se guarda el video\n",
    "                  break\n",
    "        else: break\n",
    "    captura.release()\n",
    "    salida.release()\n",
    "    cv2.destroyAllWindows()\n",
    "    \n",
    "else: \n",
    "    print(\"Ya existe un video con ese nombre\")"
   ]
  },
  {
   "cell_type": "code",
   "execution_count": 8,
   "metadata": {},
   "outputs": [],
   "source": [
    "Video_persona = cv2.VideoCapture(videoPath)\n",
    "while True:\n",
    "    ret, imagen = Video_persona.read()\n",
    "    if ret == True:\n",
    "        cv2.imshow('video', imagen)\n",
    "        if cv2.waitKey(30) == 27: # Si se teclea la tecla esc, se cierra el video\n",
    "            break\n",
    "    else: break\n",
    "captura.release()\n",
    "cv2.destroyAllWindows()"
   ]
  },
  {
   "cell_type": "markdown",
   "metadata": {},
   "source": [
    "# Guardar txt"
   ]
  },
  {
   "cell_type": "code",
   "execution_count": 5,
   "metadata": {},
   "outputs": [
    {
     "name": "stdout",
     "output_type": "stream",
     "text": [
      "Ya existe un archivo con estos datos\n"
     ]
    }
   ],
   "source": [
    "dataPath_txt = 'C:/Users/uriel/OneDrive - Universidad de Guanajuato/Documentos/8vo semestre/Forte/Datos' # Cambiar en la otra computadora\n",
    "filePath = dataPath_txt + '/' + personName + '.txt'\n",
    "\n",
    "if not os.path.exists(filePath):\n",
    "    with open(filePath, \"w\") as file:\n",
    "        file.write(\"Nombre: \" + personName + os.linesep)\n",
    "        file.write(\"Cargo: \" + Cargo +  os.linesep) \n",
    "        file.write(\"Edad: \" + Edad)\n",
    "        \n",
    "else:\n",
    "    print(\"Ya existe un archivo con estos datos\")\n"
   ]
  },
  {
   "cell_type": "code",
   "execution_count": 6,
   "metadata": {},
   "outputs": [
    {
     "name": "stdout",
     "output_type": "stream",
     "text": [
      "['Mariel', 'Uriel']\n",
      "['Practicante', 'CEO']\n",
      "['14', '22']\n"
     ]
    }
   ],
   "source": [
    "Datos = []\n",
    "Nombres = []\n",
    "Cargos = []\n",
    "Edades = []\n",
    "\n",
    "peopleList = os.listdir(dataPath_txt)\n",
    "for person in peopleList: \n",
    "    filePathPerson = dataPath_txt + '/' + person\n",
    "    with open(filePathPerson, \"r\") as file:\n",
    "        Datos.append(file.readlines())\n",
    "\n",
    "\n",
    "for Dato in Datos:\n",
    "    aux = Dato[0].split()\n",
    "    Nombres.append(aux[1])\n",
    "    aux = Dato[2].split()\n",
    "    Cargos.append(aux[1])\n",
    "    aux = Dato[4].split()\n",
    "    Edades.append(aux[1])\n",
    "    \n",
    "print(Nombres)\n",
    "print(Cargos)\n",
    "print(Edades)"
   ]
  }
 ],
 "metadata": {
  "kernelspec": {
   "display_name": "Python 3",
   "language": "python",
   "name": "python3"
  },
  "language_info": {
   "codemirror_mode": {
    "name": "ipython",
    "version": 3
   },
   "file_extension": ".py",
   "mimetype": "text/x-python",
   "name": "python",
   "nbconvert_exporter": "python",
   "pygments_lexer": "ipython3",
   "version": "3.8.5"
  }
 },
 "nbformat": 4,
 "nbformat_minor": 4
}
