{
 "cells": [
  {
   "cell_type": "code",
   "execution_count": 1,
   "metadata": {},
   "outputs": [],
   "source": [
    "# Importamos librerias\n",
    "import cv2\n",
    "import os\n",
    "import mediapipe as mp\n",
    "import imutils"
   ]
  },
  {
   "cell_type": "code",
   "execution_count": 5,
   "metadata": {},
   "outputs": [
    {
     "name": "stdout",
     "output_type": "stream",
     "text": [
      "Carpeta creada:  C:/Users/uriel/OneDrive - Universidad de Guanajuato/Documentos/8vo semestre/Forte/Mariel\n"
     ]
    }
   ],
   "source": [
    "personName = 'Uriel' # Nombre de la persona que se analizara su video \n",
    "dataPath = 'C:/Users/uriel/OneDrive - Universidad de Guanajuato/Documentos/8vo semestre/Forte/Rostros'# Lugar donde se van a almacenar los rostros\n",
    "personPath = dataPath + '/' + personName \n",
    "\n",
    "if not os.path.exists(personPath): # Verifica si existe la carpete de la persona si no crea una\n",
    "    print('Carpeta creada: ',personPath)\n",
    "    os.makedirs(personPath)"
   ]
  },
  {
   "cell_type": "code",
   "execution_count": 6,
   "metadata": {},
   "outputs": [],
   "source": [
    "mp_face_detection = mp.solutions.face_detection # Es el detector de rostros\n",
    "mp_drawing = mp.solutions.drawing_utils # Esto es para colocar el recuadro y los puntos\n",
    "cap = cv2.VideoCapture('video_u.mp4') # Configuramos que tomaremos video\n",
    "count = 0 # Esta variable va a llevar la cuenta de las fotos que se han tomado "
   ]
  },
  {
   "cell_type": "code",
   "execution_count": 7,
   "metadata": {},
   "outputs": [],
   "source": [
    "with mp_face_detection.FaceDetection(  # Gestor de contexto\n",
    "    min_detection_confidence=0.6) as face_detection:\n",
    "    while True:\n",
    "        ret, frame = cap.read() # Comenzamos a leer el video\n",
    "        if ret == False: # Verificamos si se esta leyendo de forma correcta\n",
    "            break\n",
    "        frame = imutils.resize(frame, width=640)\n",
    "        height, width, _ = frame.shape # Obtenemos las dimensipones de la imagen\n",
    "        aux_frame = frame.copy() # Copiamos el frame \n",
    "        frame_rgb = cv2.cvtColor(frame, cv2.COLOR_BGR2RGB) # cv2 lo lee como BGR y lo convertimos a RGB       \n",
    "        results = face_detection.process(frame_rgb) # Obtenemos las cordenadas de la cara y de los puntos de interes\n",
    "        k = cv2.waitKey(1) & 0xFF\n",
    "        if results.detections is not None: # Si detecta un rostro entra aqui \n",
    "            for detection in results.detections: # Se usa un for en caso de detectar mas de un rostro\n",
    "                mp_drawing.draw_detection(frame, detection,\n",
    "                    mp_drawing.DrawingSpec(color=(0, 255, 255), circle_radius=2),\n",
    "                    mp_drawing.DrawingSpec(color=(255, 0, 255))) # Dibuja en un recuadro un rostro y con circulos los puntos de interes\n",
    "                \n",
    "                # Obtenemos la posicion de la cara\n",
    "                x = int(detection.location_data.relative_bounding_box.xmin * width)\n",
    "                y = int(detection.location_data.relative_bounding_box.ymin * height)\n",
    "                w = int(detection.location_data.relative_bounding_box.width * width)\n",
    "                h = int(detection.location_data.relative_bounding_box.height * height)\n",
    "                \n",
    "                # Recortamos el rostro y reajustamos el tamaño\n",
    "                rostro = aux_frame[y:y+h,x:x+w]\n",
    "                rostro = cv2.resize(rostro,(150,150), interpolation=cv2.INTER_CUBIC)\n",
    "                cv2.imwrite(personPath + '/rotro_{}.jpg'.format(count),rostro)\n",
    "                cv2.imshow('rostro',rostro) # Mostramos el rostro guardado \n",
    "                count = count +1 \n",
    "                \n",
    "        cv2.imshow(\"frame\", frame) # Muestra lo que esta detectando \n",
    "        if k == 27 or count >= 300: # Si tecleamos la tecla esc se cancela o si llega a 300\n",
    "            break\n",
    "cap.release()\n",
    "cv2.destroyAllWindows()"
   ]
  }
 ],
 "metadata": {
  "kernelspec": {
   "display_name": "Python 3",
   "language": "python",
   "name": "python3"
  },
  "language_info": {
   "codemirror_mode": {
    "name": "ipython",
    "version": 3
   },
   "file_extension": ".py",
   "mimetype": "text/x-python",
   "name": "python",
   "nbconvert_exporter": "python",
   "pygments_lexer": "ipython3",
   "version": "3.8.5"
  }
 },
 "nbformat": 4,
 "nbformat_minor": 4
}
